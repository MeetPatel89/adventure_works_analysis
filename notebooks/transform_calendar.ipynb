{
 "cells": [
  {
   "cell_type": "code",
   "execution_count": 1,
   "metadata": {},
   "outputs": [],
   "source": [
    "import pandas as pd\n",
    "import numpy as np\n",
    "import sys\n",
    "sys.path.append('../')\n",
    "import config "
   ]
  },
  {
   "cell_type": "code",
   "execution_count": 2,
   "metadata": {},
   "outputs": [],
   "source": [
    "# get module variable for root directory\n",
    "ROOT_DIR = config.ROOT_DIR"
   ]
  },
  {
   "attachments": {},
   "cell_type": "markdown",
   "metadata": {},
   "source": [
    "#### Transform AdventureWorks_Calendar"
   ]
  },
  {
   "cell_type": "code",
   "execution_count": 3,
   "metadata": {},
   "outputs": [],
   "source": [
    "aw_calendar_dim = pd.read_csv(rf\"{ROOT_DIR}/../storage/raw/AdventureWorks_Calendar.csv\")"
   ]
  },
  {
   "cell_type": "code",
   "execution_count": 4,
   "metadata": {},
   "outputs": [
    {
     "data": {
      "text/html": [
       "<div>\n",
       "<style scoped>\n",
       "    .dataframe tbody tr th:only-of-type {\n",
       "        vertical-align: middle;\n",
       "    }\n",
       "\n",
       "    .dataframe tbody tr th {\n",
       "        vertical-align: top;\n",
       "    }\n",
       "\n",
       "    .dataframe thead th {\n",
       "        text-align: right;\n",
       "    }\n",
       "</style>\n",
       "<table border=\"1\" class=\"dataframe\">\n",
       "  <thead>\n",
       "    <tr style=\"text-align: right;\">\n",
       "      <th></th>\n",
       "      <th>Date</th>\n",
       "    </tr>\n",
       "  </thead>\n",
       "  <tbody>\n",
       "    <tr>\n",
       "      <th>0</th>\n",
       "      <td>1/1/2015</td>\n",
       "    </tr>\n",
       "    <tr>\n",
       "      <th>1</th>\n",
       "      <td>1/2/2015</td>\n",
       "    </tr>\n",
       "    <tr>\n",
       "      <th>2</th>\n",
       "      <td>1/3/2015</td>\n",
       "    </tr>\n",
       "    <tr>\n",
       "      <th>3</th>\n",
       "      <td>1/4/2015</td>\n",
       "    </tr>\n",
       "    <tr>\n",
       "      <th>4</th>\n",
       "      <td>1/5/2015</td>\n",
       "    </tr>\n",
       "  </tbody>\n",
       "</table>\n",
       "</div>"
      ],
      "text/plain": [
       "       Date\n",
       "0  1/1/2015\n",
       "1  1/2/2015\n",
       "2  1/3/2015\n",
       "3  1/4/2015\n",
       "4  1/5/2015"
      ]
     },
     "execution_count": 4,
     "metadata": {},
     "output_type": "execute_result"
    }
   ],
   "source": [
    "aw_calendar_dim.head()"
   ]
  },
  {
   "cell_type": "code",
   "execution_count": 5,
   "metadata": {},
   "outputs": [
    {
     "name": "stdout",
     "output_type": "stream",
     "text": [
      "<class 'pandas.core.frame.DataFrame'>\n",
      "RangeIndex: 912 entries, 0 to 911\n",
      "Data columns (total 1 columns):\n",
      " #   Column  Non-Null Count  Dtype \n",
      "---  ------  --------------  ----- \n",
      " 0   Date    912 non-null    object\n",
      "dtypes: object(1)\n",
      "memory usage: 7.2+ KB\n"
     ]
    }
   ],
   "source": [
    "aw_calendar_dim.info()"
   ]
  },
  {
   "cell_type": "code",
   "execution_count": 6,
   "metadata": {},
   "outputs": [],
   "source": [
    "# convert Date column to datetime[ns] data type\n",
    "aw_calendar_dim[\"Date\"] = pd.to_datetime(aw_calendar_dim[\"Date\"], format=\"%m/%d/%Y\")"
   ]
  },
  {
   "cell_type": "code",
   "execution_count": 7,
   "metadata": {},
   "outputs": [],
   "source": [
    "# extract various date parts from date field\n",
    "aw_calendar_dim[\"DayName\"] = aw_calendar_dim[\"Date\"].dt.day_name()\n",
    "aw_calendar_dim[\"MonthName\"] = aw_calendar_dim[\"Date\"].dt.month_name()\n",
    "aw_calendar_dim[\"Year\"] = aw_calendar_dim[\"Date\"].dt.year\n",
    "aw_calendar_dim[\"StartOfYear\"] = aw_calendar_dim[\"Date\"].dt.to_period(\"Y\").dt.to_timestamp()\n",
    "aw_calendar_dim[\"StartOfMonth\"] = aw_calendar_dim[\"Date\"].dt.to_period(\"M\").dt.to_timestamp()\n",
    "aw_calendar_dim[\"StartOfWeek\"] = aw_calendar_dim[\"Date\"].dt.to_period(\"W\").dt.start_time\n",
    "\n",
    "aw_calendar_dim[\"DayOfWeek\"] = aw_calendar_dim[\"Date\"].dt.dayofweek + 1 # Monday = 1, Sunday = 7\n",
    "aw_calendar_dim[\"Weekend\"] = np.where((aw_calendar_dim[\"DayOfWeek\"] == 6) | (aw_calendar_dim[\"DayOfWeek\"] == 7), \"Weekend\", \"Weekday\")"
   ]
  },
  {
   "cell_type": "code",
   "execution_count": 8,
   "metadata": {},
   "outputs": [],
   "source": [
    "# extract short day and short month from day name and month name respectively\n",
    "aw_calendar_dim[\"ShortDay\"] = aw_calendar_dim[\"DayName\"].str.slice(stop=3).str.upper()\n",
    "aw_calendar_dim[\"ShortMonth\"] = aw_calendar_dim[\"MonthName\"].str.slice(stop=3).str.upper()"
   ]
  },
  {
   "cell_type": "code",
   "execution_count": 9,
   "metadata": {},
   "outputs": [
    {
     "name": "stdout",
     "output_type": "stream",
     "text": [
      "<class 'pandas.core.frame.DataFrame'>\n",
      "RangeIndex: 912 entries, 0 to 911\n",
      "Data columns (total 11 columns):\n",
      " #   Column        Non-Null Count  Dtype         \n",
      "---  ------        --------------  -----         \n",
      " 0   Date          912 non-null    datetime64[ns]\n",
      " 1   DayName       912 non-null    object        \n",
      " 2   MonthName     912 non-null    object        \n",
      " 3   Year          912 non-null    int64         \n",
      " 4   StartOfYear   912 non-null    datetime64[ns]\n",
      " 5   StartOfMonth  912 non-null    datetime64[ns]\n",
      " 6   StartOfWeek   912 non-null    datetime64[ns]\n",
      " 7   DayOfWeek     912 non-null    int64         \n",
      " 8   Weekend       912 non-null    object        \n",
      " 9   ShortDay      912 non-null    object        \n",
      " 10  ShortMonth    912 non-null    object        \n",
      "dtypes: datetime64[ns](4), int64(2), object(5)\n",
      "memory usage: 78.5+ KB\n"
     ]
    }
   ],
   "source": [
    "aw_calendar_dim.info()"
   ]
  },
  {
   "cell_type": "code",
   "execution_count": 10,
   "metadata": {},
   "outputs": [
    {
     "data": {
      "text/html": [
       "<div>\n",
       "<style scoped>\n",
       "    .dataframe tbody tr th:only-of-type {\n",
       "        vertical-align: middle;\n",
       "    }\n",
       "\n",
       "    .dataframe tbody tr th {\n",
       "        vertical-align: top;\n",
       "    }\n",
       "\n",
       "    .dataframe thead th {\n",
       "        text-align: right;\n",
       "    }\n",
       "</style>\n",
       "<table border=\"1\" class=\"dataframe\">\n",
       "  <thead>\n",
       "    <tr style=\"text-align: right;\">\n",
       "      <th></th>\n",
       "      <th>Date</th>\n",
       "      <th>DayName</th>\n",
       "      <th>MonthName</th>\n",
       "      <th>Year</th>\n",
       "      <th>StartOfYear</th>\n",
       "      <th>StartOfMonth</th>\n",
       "      <th>StartOfWeek</th>\n",
       "      <th>DayOfWeek</th>\n",
       "      <th>Weekend</th>\n",
       "      <th>ShortDay</th>\n",
       "      <th>ShortMonth</th>\n",
       "    </tr>\n",
       "  </thead>\n",
       "  <tbody>\n",
       "    <tr>\n",
       "      <th>0</th>\n",
       "      <td>2015-01-01</td>\n",
       "      <td>Thursday</td>\n",
       "      <td>January</td>\n",
       "      <td>2015</td>\n",
       "      <td>2015-01-01</td>\n",
       "      <td>2015-01-01</td>\n",
       "      <td>2014-12-29</td>\n",
       "      <td>4</td>\n",
       "      <td>Weekday</td>\n",
       "      <td>THU</td>\n",
       "      <td>JAN</td>\n",
       "    </tr>\n",
       "    <tr>\n",
       "      <th>1</th>\n",
       "      <td>2015-01-02</td>\n",
       "      <td>Friday</td>\n",
       "      <td>January</td>\n",
       "      <td>2015</td>\n",
       "      <td>2015-01-01</td>\n",
       "      <td>2015-01-01</td>\n",
       "      <td>2014-12-29</td>\n",
       "      <td>5</td>\n",
       "      <td>Weekday</td>\n",
       "      <td>FRI</td>\n",
       "      <td>JAN</td>\n",
       "    </tr>\n",
       "    <tr>\n",
       "      <th>2</th>\n",
       "      <td>2015-01-03</td>\n",
       "      <td>Saturday</td>\n",
       "      <td>January</td>\n",
       "      <td>2015</td>\n",
       "      <td>2015-01-01</td>\n",
       "      <td>2015-01-01</td>\n",
       "      <td>2014-12-29</td>\n",
       "      <td>6</td>\n",
       "      <td>Weekend</td>\n",
       "      <td>SAT</td>\n",
       "      <td>JAN</td>\n",
       "    </tr>\n",
       "    <tr>\n",
       "      <th>3</th>\n",
       "      <td>2015-01-04</td>\n",
       "      <td>Sunday</td>\n",
       "      <td>January</td>\n",
       "      <td>2015</td>\n",
       "      <td>2015-01-01</td>\n",
       "      <td>2015-01-01</td>\n",
       "      <td>2014-12-29</td>\n",
       "      <td>7</td>\n",
       "      <td>Weekend</td>\n",
       "      <td>SUN</td>\n",
       "      <td>JAN</td>\n",
       "    </tr>\n",
       "    <tr>\n",
       "      <th>4</th>\n",
       "      <td>2015-01-05</td>\n",
       "      <td>Monday</td>\n",
       "      <td>January</td>\n",
       "      <td>2015</td>\n",
       "      <td>2015-01-01</td>\n",
       "      <td>2015-01-01</td>\n",
       "      <td>2015-01-05</td>\n",
       "      <td>1</td>\n",
       "      <td>Weekday</td>\n",
       "      <td>MON</td>\n",
       "      <td>JAN</td>\n",
       "    </tr>\n",
       "  </tbody>\n",
       "</table>\n",
       "</div>"
      ],
      "text/plain": [
       "        Date   DayName MonthName  Year StartOfYear StartOfMonth StartOfWeek  \\\n",
       "0 2015-01-01  Thursday   January  2015  2015-01-01   2015-01-01  2014-12-29   \n",
       "1 2015-01-02    Friday   January  2015  2015-01-01   2015-01-01  2014-12-29   \n",
       "2 2015-01-03  Saturday   January  2015  2015-01-01   2015-01-01  2014-12-29   \n",
       "3 2015-01-04    Sunday   January  2015  2015-01-01   2015-01-01  2014-12-29   \n",
       "4 2015-01-05    Monday   January  2015  2015-01-01   2015-01-01  2015-01-05   \n",
       "\n",
       "   DayOfWeek  Weekend ShortDay ShortMonth  \n",
       "0          4  Weekday      THU        JAN  \n",
       "1          5  Weekday      FRI        JAN  \n",
       "2          6  Weekend      SAT        JAN  \n",
       "3          7  Weekend      SUN        JAN  \n",
       "4          1  Weekday      MON        JAN  "
      ]
     },
     "execution_count": 10,
     "metadata": {},
     "output_type": "execute_result"
    }
   ],
   "source": [
    "aw_calendar_dim.head()"
   ]
  },
  {
   "cell_type": "code",
   "execution_count": 11,
   "metadata": {},
   "outputs": [],
   "source": [
    "# write transformed calendar data to storage - processed layer for powerbi consumption\n",
    "aw_calendar_dim.to_csv(rf\"{ROOT_DIR}/../storage/processed/aw_calendar_dim.csv\", index=False)"
   ]
  },
  {
   "cell_type": "code",
   "execution_count": null,
   "metadata": {},
   "outputs": [],
   "source": []
  }
 ],
 "metadata": {
  "kernelspec": {
   "display_name": "pyspark-env-2",
   "language": "python",
   "name": "python3"
  },
  "language_info": {
   "codemirror_mode": {
    "name": "ipython",
    "version": 3
   },
   "file_extension": ".py",
   "mimetype": "text/x-python",
   "name": "python",
   "nbconvert_exporter": "python",
   "pygments_lexer": "ipython3",
   "version": "3.9.16"
  },
  "orig_nbformat": 4
 },
 "nbformat": 4,
 "nbformat_minor": 2
}
