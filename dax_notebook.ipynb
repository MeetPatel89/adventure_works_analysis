{
 "cells": [
  {
   "cell_type": "code",
   "execution_count": 9,
   "metadata": {},
   "outputs": [],
   "source": [
    "import pandas as pd\n",
    "import numpy as np\n",
    "import datetime \n",
    "import config "
   ]
  },
  {
   "cell_type": "code",
   "execution_count": 10,
   "metadata": {},
   "outputs": [],
   "source": [
    "# get module variables\n",
    "ROOT_DIR = config.ROOT_DIR"
   ]
  },
  {
   "cell_type": "code",
   "execution_count": 11,
   "metadata": {},
   "outputs": [],
   "source": [
    "aw_sales = pd.read_csv(rf\"{ROOT_DIR}\\storage\\processed\\aw_sales.csv\")"
   ]
  },
  {
   "cell_type": "code",
   "execution_count": 12,
   "metadata": {},
   "outputs": [],
   "source": [
    "aw_sales[\"QuantityType\"] = np.where(aw_sales[\"OrderQuantity\"] > 1, \"Multiple Items\", \"Single Item\")"
   ]
  },
  {
   "cell_type": "code",
   "execution_count": 13,
   "metadata": {},
   "outputs": [
    {
     "data": {
      "text/html": [
       "<div>\n",
       "<style scoped>\n",
       "    .dataframe tbody tr th:only-of-type {\n",
       "        vertical-align: middle;\n",
       "    }\n",
       "\n",
       "    .dataframe tbody tr th {\n",
       "        vertical-align: top;\n",
       "    }\n",
       "\n",
       "    .dataframe thead th {\n",
       "        text-align: right;\n",
       "    }\n",
       "</style>\n",
       "<table border=\"1\" class=\"dataframe\">\n",
       "  <thead>\n",
       "    <tr style=\"text-align: right;\">\n",
       "      <th></th>\n",
       "      <th>OrderDate</th>\n",
       "      <th>StockDate</th>\n",
       "      <th>OrderNumber</th>\n",
       "      <th>ProductKey</th>\n",
       "      <th>CustomerKey</th>\n",
       "      <th>TerritoryKey</th>\n",
       "      <th>OrderLineItem</th>\n",
       "      <th>OrderQuantity</th>\n",
       "      <th>QuantityType</th>\n",
       "    </tr>\n",
       "  </thead>\n",
       "  <tbody>\n",
       "    <tr>\n",
       "      <th>0</th>\n",
       "      <td>1/1/2015</td>\n",
       "      <td>9/21/2001</td>\n",
       "      <td>SO45080</td>\n",
       "      <td>332</td>\n",
       "      <td>14657</td>\n",
       "      <td>1</td>\n",
       "      <td>1</td>\n",
       "      <td>1</td>\n",
       "      <td>Single Item</td>\n",
       "    </tr>\n",
       "    <tr>\n",
       "      <th>1</th>\n",
       "      <td>1/1/2015</td>\n",
       "      <td>12/5/2001</td>\n",
       "      <td>SO45079</td>\n",
       "      <td>312</td>\n",
       "      <td>29255</td>\n",
       "      <td>4</td>\n",
       "      <td>1</td>\n",
       "      <td>1</td>\n",
       "      <td>Single Item</td>\n",
       "    </tr>\n",
       "    <tr>\n",
       "      <th>2</th>\n",
       "      <td>1/1/2015</td>\n",
       "      <td>10/29/2001</td>\n",
       "      <td>SO45082</td>\n",
       "      <td>350</td>\n",
       "      <td>11455</td>\n",
       "      <td>9</td>\n",
       "      <td>1</td>\n",
       "      <td>1</td>\n",
       "      <td>Single Item</td>\n",
       "    </tr>\n",
       "    <tr>\n",
       "      <th>3</th>\n",
       "      <td>1/1/2015</td>\n",
       "      <td>11/16/2001</td>\n",
       "      <td>SO45081</td>\n",
       "      <td>338</td>\n",
       "      <td>26782</td>\n",
       "      <td>6</td>\n",
       "      <td>1</td>\n",
       "      <td>1</td>\n",
       "      <td>Single Item</td>\n",
       "    </tr>\n",
       "    <tr>\n",
       "      <th>4</th>\n",
       "      <td>1/2/2015</td>\n",
       "      <td>12/15/2001</td>\n",
       "      <td>SO45083</td>\n",
       "      <td>312</td>\n",
       "      <td>14947</td>\n",
       "      <td>10</td>\n",
       "      <td>1</td>\n",
       "      <td>1</td>\n",
       "      <td>Single Item</td>\n",
       "    </tr>\n",
       "    <tr>\n",
       "      <th>...</th>\n",
       "      <td>...</td>\n",
       "      <td>...</td>\n",
       "      <td>...</td>\n",
       "      <td>...</td>\n",
       "      <td>...</td>\n",
       "      <td>...</td>\n",
       "      <td>...</td>\n",
       "      <td>...</td>\n",
       "      <td>...</td>\n",
       "    </tr>\n",
       "    <tr>\n",
       "      <th>56041</th>\n",
       "      <td>6/30/2017</td>\n",
       "      <td>3/22/2004</td>\n",
       "      <td>SO74143</td>\n",
       "      <td>477</td>\n",
       "      <td>28517</td>\n",
       "      <td>10</td>\n",
       "      <td>3</td>\n",
       "      <td>2</td>\n",
       "      <td>Multiple Items</td>\n",
       "    </tr>\n",
       "    <tr>\n",
       "      <th>56042</th>\n",
       "      <td>6/30/2017</td>\n",
       "      <td>3/15/2004</td>\n",
       "      <td>SO74143</td>\n",
       "      <td>479</td>\n",
       "      <td>28517</td>\n",
       "      <td>10</td>\n",
       "      <td>2</td>\n",
       "      <td>1</td>\n",
       "      <td>Single Item</td>\n",
       "    </tr>\n",
       "    <tr>\n",
       "      <th>56043</th>\n",
       "      <td>6/30/2017</td>\n",
       "      <td>4/8/2004</td>\n",
       "      <td>SO74143</td>\n",
       "      <td>606</td>\n",
       "      <td>28517</td>\n",
       "      <td>10</td>\n",
       "      <td>1</td>\n",
       "      <td>1</td>\n",
       "      <td>Single Item</td>\n",
       "    </tr>\n",
       "    <tr>\n",
       "      <th>56044</th>\n",
       "      <td>6/30/2017</td>\n",
       "      <td>5/15/2004</td>\n",
       "      <td>SO74124</td>\n",
       "      <td>480</td>\n",
       "      <td>21676</td>\n",
       "      <td>7</td>\n",
       "      <td>2</td>\n",
       "      <td>2</td>\n",
       "      <td>Multiple Items</td>\n",
       "    </tr>\n",
       "    <tr>\n",
       "      <th>56045</th>\n",
       "      <td>6/30/2017</td>\n",
       "      <td>5/4/2004</td>\n",
       "      <td>SO74124</td>\n",
       "      <td>538</td>\n",
       "      <td>21676</td>\n",
       "      <td>7</td>\n",
       "      <td>1</td>\n",
       "      <td>2</td>\n",
       "      <td>Multiple Items</td>\n",
       "    </tr>\n",
       "  </tbody>\n",
       "</table>\n",
       "<p>56046 rows × 9 columns</p>\n",
       "</div>"
      ],
      "text/plain": [
       "       OrderDate   StockDate OrderNumber  ProductKey  CustomerKey  \\\n",
       "0       1/1/2015   9/21/2001     SO45080         332        14657   \n",
       "1       1/1/2015   12/5/2001     SO45079         312        29255   \n",
       "2       1/1/2015  10/29/2001     SO45082         350        11455   \n",
       "3       1/1/2015  11/16/2001     SO45081         338        26782   \n",
       "4       1/2/2015  12/15/2001     SO45083         312        14947   \n",
       "...          ...         ...         ...         ...          ...   \n",
       "56041  6/30/2017   3/22/2004     SO74143         477        28517   \n",
       "56042  6/30/2017   3/15/2004     SO74143         479        28517   \n",
       "56043  6/30/2017    4/8/2004     SO74143         606        28517   \n",
       "56044  6/30/2017   5/15/2004     SO74124         480        21676   \n",
       "56045  6/30/2017    5/4/2004     SO74124         538        21676   \n",
       "\n",
       "       TerritoryKey  OrderLineItem  OrderQuantity    QuantityType  \n",
       "0                 1              1              1     Single Item  \n",
       "1                 4              1              1     Single Item  \n",
       "2                 9              1              1     Single Item  \n",
       "3                 6              1              1     Single Item  \n",
       "4                10              1              1     Single Item  \n",
       "...             ...            ...            ...             ...  \n",
       "56041            10              3              2  Multiple Items  \n",
       "56042            10              2              1     Single Item  \n",
       "56043            10              1              1     Single Item  \n",
       "56044             7              2              2  Multiple Items  \n",
       "56045             7              1              2  Multiple Items  \n",
       "\n",
       "[56046 rows x 9 columns]"
      ]
     },
     "execution_count": 13,
     "metadata": {},
     "output_type": "execute_result"
    }
   ],
   "source": [
    "aw_sales.head()"
   ]
  },
  {
   "cell_type": "code",
   "execution_count": 14,
   "metadata": {},
   "outputs": [],
   "source": [
    "aw_calendar_lookup = pd.read_csv(rf\"{ROOT_DIR}\\storage\\processed\\aw_calendar_lookup.csv\")"
   ]
  },
  {
   "cell_type": "code",
   "execution_count": 17,
   "metadata": {},
   "outputs": [
    {
     "name": "stdout",
     "output_type": "stream",
     "text": [
      "<class 'pandas.core.frame.DataFrame'>\n",
      "RangeIndex: 912 entries, 0 to 911\n",
      "Data columns (total 7 columns):\n",
      " #   Column          Non-Null Count  Dtype \n",
      "---  ------          --------------  ----- \n",
      " 0   Date            912 non-null    object\n",
      " 1   Day_Name        912 non-null    object\n",
      " 2   Month_Name      912 non-null    object\n",
      " 3   Year            912 non-null    int64 \n",
      " 4   Start_of_Year   912 non-null    object\n",
      " 5   Start_of_Month  912 non-null    object\n",
      " 6   Start_of_Week   912 non-null    object\n",
      "dtypes: int64(1), object(6)\n",
      "memory usage: 50.0+ KB\n"
     ]
    }
   ],
   "source": [
    "aw_calendar_lookup.info()"
   ]
  },
  {
   "cell_type": "code",
   "execution_count": 19,
   "metadata": {},
   "outputs": [
    {
     "data": {
      "text/plain": [
       "0      4\n",
       "1      5\n",
       "2      6\n",
       "3      7\n",
       "4      1\n",
       "      ..\n",
       "907    1\n",
       "908    2\n",
       "909    3\n",
       "910    4\n",
       "911    5\n",
       "Name: Date, Length: 912, dtype: int64"
      ]
     },
     "execution_count": 19,
     "metadata": {},
     "output_type": "execute_result"
    }
   ],
   "source": [
    "pd.to_datetime(aw_calendar_lookup[\"Date\"]).dt.day_of_week + 1"
   ]
  },
  {
   "cell_type": "code",
   "execution_count": null,
   "metadata": {},
   "outputs": [],
   "source": []
  }
 ],
 "metadata": {
  "kernelspec": {
   "display_name": "pyspark-env-2",
   "language": "python",
   "name": "python3"
  },
  "language_info": {
   "codemirror_mode": {
    "name": "ipython",
    "version": 3
   },
   "file_extension": ".py",
   "mimetype": "text/x-python",
   "name": "python",
   "nbconvert_exporter": "python",
   "pygments_lexer": "ipython3",
   "version": "3.9.16"
  },
  "orig_nbformat": 4
 },
 "nbformat": 4,
 "nbformat_minor": 2
}
