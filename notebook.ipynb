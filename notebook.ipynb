{
 "cells": [
  {
   "cell_type": "code",
   "execution_count": 19,
   "metadata": {},
   "outputs": [],
   "source": [
    "import pandas as pd\n",
    "import numpy as np\n",
    "import datetime \n",
    "import config "
   ]
  },
  {
   "cell_type": "code",
   "execution_count": 20,
   "metadata": {},
   "outputs": [],
   "source": [
    "# get module variables\n",
    "ROOT_DIR = config.ROOT_DIR"
   ]
  },
  {
   "cell_type": "code",
   "execution_count": 21,
   "metadata": {},
   "outputs": [],
   "source": [
    "import findspark\n",
    "findspark.init()"
   ]
  },
  {
   "cell_type": "code",
   "execution_count": 22,
   "metadata": {},
   "outputs": [],
   "source": [
    "# spark session start to begin transforming data (processing layer)\n",
    "from pyspark.sql import SparkSession\n",
    "spark=SparkSession.builder.appName(\"adventure_works_analysis\").getOrCreate()"
   ]
  },
  {
   "cell_type": "code",
   "execution_count": 23,
   "metadata": {},
   "outputs": [],
   "source": [
    "aw_products_lookup = pd.read_csv(rf\"{ROOT_DIR}/storage/raw/AdventureWorks_Products.csv\")"
   ]
  },
  {
   "cell_type": "code",
   "execution_count": 24,
   "metadata": {},
   "outputs": [
    {
     "data": {
      "text/html": [
       "<div>\n",
       "<style scoped>\n",
       "    .dataframe tbody tr th:only-of-type {\n",
       "        vertical-align: middle;\n",
       "    }\n",
       "\n",
       "    .dataframe tbody tr th {\n",
       "        vertical-align: top;\n",
       "    }\n",
       "\n",
       "    .dataframe thead th {\n",
       "        text-align: right;\n",
       "    }\n",
       "</style>\n",
       "<table border=\"1\" class=\"dataframe\">\n",
       "  <thead>\n",
       "    <tr style=\"text-align: right;\">\n",
       "      <th></th>\n",
       "      <th>ProductKey</th>\n",
       "      <th>ProductSubcategoryKey</th>\n",
       "      <th>ProductSKU</th>\n",
       "      <th>ProductName</th>\n",
       "      <th>ModelName</th>\n",
       "      <th>ProductDescription</th>\n",
       "      <th>ProductColor</th>\n",
       "      <th>ProductSize</th>\n",
       "      <th>ProductStyle</th>\n",
       "      <th>ProductCost</th>\n",
       "      <th>ProductPrice</th>\n",
       "    </tr>\n",
       "  </thead>\n",
       "  <tbody>\n",
       "    <tr>\n",
       "      <th>0</th>\n",
       "      <td>214</td>\n",
       "      <td>31</td>\n",
       "      <td>HL-U509-R</td>\n",
       "      <td>Sport-100 Helmet, Red</td>\n",
       "      <td>Sport-100</td>\n",
       "      <td>Universal fit, well-vented, lightweight , snap...</td>\n",
       "      <td>Red</td>\n",
       "      <td>0</td>\n",
       "      <td>0</td>\n",
       "      <td>13.0863</td>\n",
       "      <td>34.9900</td>\n",
       "    </tr>\n",
       "    <tr>\n",
       "      <th>1</th>\n",
       "      <td>215</td>\n",
       "      <td>31</td>\n",
       "      <td>HL-U509</td>\n",
       "      <td>Sport-100 Helmet, Black</td>\n",
       "      <td>Sport-100</td>\n",
       "      <td>Universal fit, well-vented, lightweight , snap...</td>\n",
       "      <td>Black</td>\n",
       "      <td>0</td>\n",
       "      <td>0</td>\n",
       "      <td>12.0278</td>\n",
       "      <td>33.6442</td>\n",
       "    </tr>\n",
       "    <tr>\n",
       "      <th>2</th>\n",
       "      <td>218</td>\n",
       "      <td>23</td>\n",
       "      <td>SO-B909-M</td>\n",
       "      <td>Mountain Bike Socks, M</td>\n",
       "      <td>Mountain Bike Socks</td>\n",
       "      <td>Combination of natural and synthetic fibers st...</td>\n",
       "      <td>White</td>\n",
       "      <td>M</td>\n",
       "      <td>U</td>\n",
       "      <td>3.3963</td>\n",
       "      <td>9.5000</td>\n",
       "    </tr>\n",
       "    <tr>\n",
       "      <th>3</th>\n",
       "      <td>219</td>\n",
       "      <td>23</td>\n",
       "      <td>SO-B909-L</td>\n",
       "      <td>Mountain Bike Socks, L</td>\n",
       "      <td>Mountain Bike Socks</td>\n",
       "      <td>Combination of natural and synthetic fibers st...</td>\n",
       "      <td>White</td>\n",
       "      <td>L</td>\n",
       "      <td>U</td>\n",
       "      <td>3.3963</td>\n",
       "      <td>9.5000</td>\n",
       "    </tr>\n",
       "    <tr>\n",
       "      <th>4</th>\n",
       "      <td>220</td>\n",
       "      <td>31</td>\n",
       "      <td>HL-U509-B</td>\n",
       "      <td>Sport-100 Helmet, Blue</td>\n",
       "      <td>Sport-100</td>\n",
       "      <td>Universal fit, well-vented, lightweight , snap...</td>\n",
       "      <td>Blue</td>\n",
       "      <td>0</td>\n",
       "      <td>0</td>\n",
       "      <td>12.0278</td>\n",
       "      <td>33.6442</td>\n",
       "    </tr>\n",
       "  </tbody>\n",
       "</table>\n",
       "</div>"
      ],
      "text/plain": [
       "   ProductKey  ProductSubcategoryKey ProductSKU              ProductName  \\\n",
       "0         214                     31  HL-U509-R    Sport-100 Helmet, Red   \n",
       "1         215                     31    HL-U509  Sport-100 Helmet, Black   \n",
       "2         218                     23  SO-B909-M   Mountain Bike Socks, M   \n",
       "3         219                     23  SO-B909-L   Mountain Bike Socks, L   \n",
       "4         220                     31  HL-U509-B   Sport-100 Helmet, Blue   \n",
       "\n",
       "             ModelName                                 ProductDescription  \\\n",
       "0            Sport-100  Universal fit, well-vented, lightweight , snap...   \n",
       "1            Sport-100  Universal fit, well-vented, lightweight , snap...   \n",
       "2  Mountain Bike Socks  Combination of natural and synthetic fibers st...   \n",
       "3  Mountain Bike Socks  Combination of natural and synthetic fibers st...   \n",
       "4            Sport-100  Universal fit, well-vented, lightweight , snap...   \n",
       "\n",
       "  ProductColor ProductSize ProductStyle  ProductCost  ProductPrice  \n",
       "0          Red           0            0      13.0863       34.9900  \n",
       "1        Black           0            0      12.0278       33.6442  \n",
       "2        White           M            U       3.3963        9.5000  \n",
       "3        White           L            U       3.3963        9.5000  \n",
       "4         Blue           0            0      12.0278       33.6442  "
      ]
     },
     "execution_count": 24,
     "metadata": {},
     "output_type": "execute_result"
    }
   ],
   "source": [
    "aw_products_lookup.head()"
   ]
  },
  {
   "cell_type": "code",
   "execution_count": 25,
   "metadata": {},
   "outputs": [
    {
     "name": "stdout",
     "output_type": "stream",
     "text": [
      "<class 'pandas.core.frame.DataFrame'>\n",
      "RangeIndex: 293 entries, 0 to 292\n",
      "Data columns (total 11 columns):\n",
      " #   Column                 Non-Null Count  Dtype  \n",
      "---  ------                 --------------  -----  \n",
      " 0   ProductKey             293 non-null    int64  \n",
      " 1   ProductSubcategoryKey  293 non-null    int64  \n",
      " 2   ProductSKU             293 non-null    object \n",
      " 3   ProductName            293 non-null    object \n",
      " 4   ModelName              293 non-null    object \n",
      " 5   ProductDescription     293 non-null    object \n",
      " 6   ProductColor           243 non-null    object \n",
      " 7   ProductSize            293 non-null    object \n",
      " 8   ProductStyle           293 non-null    object \n",
      " 9   ProductCost            293 non-null    float64\n",
      " 10  ProductPrice           293 non-null    float64\n",
      "dtypes: float64(2), int64(2), object(7)\n",
      "memory usage: 25.3+ KB\n"
     ]
    }
   ],
   "source": [
    "aw_products_lookup.info()"
   ]
  },
  {
   "cell_type": "code",
   "execution_count": 26,
   "metadata": {},
   "outputs": [],
   "source": [
    "aw_products_lookup.drop(columns=\"ProductSize\", inplace=True)\n",
    "aw_products_lookup.sort_values(by=\"ProductKey\", inplace=True)"
   ]
  },
  {
   "cell_type": "code",
   "execution_count": 27,
   "metadata": {},
   "outputs": [
    {
     "data": {
      "text/html": [
       "<div>\n",
       "<style scoped>\n",
       "    .dataframe tbody tr th:only-of-type {\n",
       "        vertical-align: middle;\n",
       "    }\n",
       "\n",
       "    .dataframe tbody tr th {\n",
       "        vertical-align: top;\n",
       "    }\n",
       "\n",
       "    .dataframe thead th {\n",
       "        text-align: right;\n",
       "    }\n",
       "</style>\n",
       "<table border=\"1\" class=\"dataframe\">\n",
       "  <thead>\n",
       "    <tr style=\"text-align: right;\">\n",
       "      <th></th>\n",
       "      <th>ProductKey</th>\n",
       "      <th>ProductSubcategoryKey</th>\n",
       "      <th>ProductSKU</th>\n",
       "      <th>ProductName</th>\n",
       "      <th>ModelName</th>\n",
       "      <th>ProductDescription</th>\n",
       "      <th>ProductColor</th>\n",
       "      <th>ProductStyle</th>\n",
       "      <th>ProductCost</th>\n",
       "      <th>ProductPrice</th>\n",
       "    </tr>\n",
       "  </thead>\n",
       "  <tbody>\n",
       "    <tr>\n",
       "      <th>0</th>\n",
       "      <td>214</td>\n",
       "      <td>31</td>\n",
       "      <td>HL-U509-R</td>\n",
       "      <td>Sport-100 Helmet, Red</td>\n",
       "      <td>Sport-100</td>\n",
       "      <td>Universal fit, well-vented, lightweight , snap...</td>\n",
       "      <td>Red</td>\n",
       "      <td>0</td>\n",
       "      <td>13.0863</td>\n",
       "      <td>34.9900</td>\n",
       "    </tr>\n",
       "    <tr>\n",
       "      <th>1</th>\n",
       "      <td>215</td>\n",
       "      <td>31</td>\n",
       "      <td>HL-U509</td>\n",
       "      <td>Sport-100 Helmet, Black</td>\n",
       "      <td>Sport-100</td>\n",
       "      <td>Universal fit, well-vented, lightweight , snap...</td>\n",
       "      <td>Black</td>\n",
       "      <td>0</td>\n",
       "      <td>12.0278</td>\n",
       "      <td>33.6442</td>\n",
       "    </tr>\n",
       "    <tr>\n",
       "      <th>2</th>\n",
       "      <td>218</td>\n",
       "      <td>23</td>\n",
       "      <td>SO-B909-M</td>\n",
       "      <td>Mountain Bike Socks, M</td>\n",
       "      <td>Mountain Bike Socks</td>\n",
       "      <td>Combination of natural and synthetic fibers st...</td>\n",
       "      <td>White</td>\n",
       "      <td>U</td>\n",
       "      <td>3.3963</td>\n",
       "      <td>9.5000</td>\n",
       "    </tr>\n",
       "    <tr>\n",
       "      <th>3</th>\n",
       "      <td>219</td>\n",
       "      <td>23</td>\n",
       "      <td>SO-B909-L</td>\n",
       "      <td>Mountain Bike Socks, L</td>\n",
       "      <td>Mountain Bike Socks</td>\n",
       "      <td>Combination of natural and synthetic fibers st...</td>\n",
       "      <td>White</td>\n",
       "      <td>U</td>\n",
       "      <td>3.3963</td>\n",
       "      <td>9.5000</td>\n",
       "    </tr>\n",
       "    <tr>\n",
       "      <th>4</th>\n",
       "      <td>220</td>\n",
       "      <td>31</td>\n",
       "      <td>HL-U509-B</td>\n",
       "      <td>Sport-100 Helmet, Blue</td>\n",
       "      <td>Sport-100</td>\n",
       "      <td>Universal fit, well-vented, lightweight , snap...</td>\n",
       "      <td>Blue</td>\n",
       "      <td>0</td>\n",
       "      <td>12.0278</td>\n",
       "      <td>33.6442</td>\n",
       "    </tr>\n",
       "  </tbody>\n",
       "</table>\n",
       "</div>"
      ],
      "text/plain": [
       "   ProductKey  ProductSubcategoryKey ProductSKU              ProductName  \\\n",
       "0         214                     31  HL-U509-R    Sport-100 Helmet, Red   \n",
       "1         215                     31    HL-U509  Sport-100 Helmet, Black   \n",
       "2         218                     23  SO-B909-M   Mountain Bike Socks, M   \n",
       "3         219                     23  SO-B909-L   Mountain Bike Socks, L   \n",
       "4         220                     31  HL-U509-B   Sport-100 Helmet, Blue   \n",
       "\n",
       "             ModelName                                 ProductDescription  \\\n",
       "0            Sport-100  Universal fit, well-vented, lightweight , snap...   \n",
       "1            Sport-100  Universal fit, well-vented, lightweight , snap...   \n",
       "2  Mountain Bike Socks  Combination of natural and synthetic fibers st...   \n",
       "3  Mountain Bike Socks  Combination of natural and synthetic fibers st...   \n",
       "4            Sport-100  Universal fit, well-vented, lightweight , snap...   \n",
       "\n",
       "  ProductColor ProductStyle  ProductCost  ProductPrice  \n",
       "0          Red            0      13.0863       34.9900  \n",
       "1        Black            0      12.0278       33.6442  \n",
       "2        White            U       3.3963        9.5000  \n",
       "3        White            U       3.3963        9.5000  \n",
       "4         Blue            0      12.0278       33.6442  "
      ]
     },
     "execution_count": 27,
     "metadata": {},
     "output_type": "execute_result"
    }
   ],
   "source": [
    "aw_products_lookup.head()"
   ]
  },
  {
   "cell_type": "code",
   "execution_count": 28,
   "metadata": {},
   "outputs": [],
   "source": [
    "aw_products_lookup.to_csv(rf\"{ROOT_DIR}/storage/processed/aw_products_lookup.csv\", index=False)"
   ]
  },
  {
   "cell_type": "code",
   "execution_count": null,
   "metadata": {},
   "outputs": [],
   "source": []
  }
 ],
 "metadata": {
  "kernelspec": {
   "display_name": "Python 3",
   "language": "python",
   "name": "python3"
  },
  "language_info": {
   "codemirror_mode": {
    "name": "ipython",
    "version": 3
   },
   "file_extension": ".py",
   "mimetype": "text/x-python",
   "name": "python",
   "nbconvert_exporter": "python",
   "pygments_lexer": "ipython3",
   "version": "3.9.16"
  },
  "orig_nbformat": 4,
  "vscode": {
   "interpreter": {
    "hash": "0c62ecade22fff4c1d31446e36615b3ce67a81b5933d46e8d3b7993b34a0b8fe"
   }
  }
 },
 "nbformat": 4,
 "nbformat_minor": 2
}
